{
 "cells": [
  {
   "cell_type": "markdown",
   "id": "b257653e-aa88-4590-9540-a285a370a825",
   "metadata": {},
   "source": [
    "What is Machine Learning?\n",
    "\n",
    " Machine Learning is a subset of Artificial Intelligence that enables systems to learn\n",
    " from data without explicit programming. It improves over time as it gains more\n",
    " data.\n",
    "\n",
    " Types of ML:\n",
    " • Supervised Learning\n",
    " • Unsupervised Learning\n",
    " •  Reinforcement Learning\n"
   ]
  },
  {
   "cell_type": "markdown",
   "id": "b5fbfd41-74e2-48a7-a67f-a44779a399b1",
   "metadata": {},
   "source": [
    "Applications of Machine Learning\n",
    "\n",
    " • Make robots recognize faces or learn to walk.\n",
    " • Discover patterns in user logs, financial data, etc.\n",
    " • Recommend products based on user behavior\n",
    " • Segment customers for personalized marketing\n",
    " • Detect fraudulent transactions\n",
    " • Forecast sales and demand\n",
    " • Automate and optimize real-world decisions\n"
   ]
  },
  {
   "cell_type": "markdown",
   "id": "5b2c70fd-1dad-47f7-961b-81a609c021e1",
   "metadata": {},
   "source": [
    "Common Machine Learning Libraries:\n",
    "\n",
    " • Scikit-Learn – Ideal for regression, classification, clustering (beginner-friendly)\n",
    " • TensorFlow – Google’s library for large-scale ML\n",
    " • Keras – High-level deep learning API (comes with TensorFlow)\n",
    " • PyTorch – Facebook’s deep learning framework\n",
    " • Pandas / NumPy – Data cleaning and handling tools\n",
    "\n",
    "For deep learning beginners: start with Keras"
   ]
  },
  {
   "cell_type": "markdown",
   "id": "38451abb-5107-4adc-b64c-90caacd0f5fb",
   "metadata": {},
   "source": [
    " PyTorch vs TensorFlow\n",
    "\n",
    " • Both are popular frameworks for deep learning\n",
    " • TensorFlow offers more production deployment tools\n",
    " • PyTorch is often preferred for its ease of use and debugging capabilities\n"
   ]
  }
 ],
 "metadata": {
  "kernelspec": {
   "display_name": "Python [conda env:base] *",
   "language": "python",
   "name": "conda-base-py"
  },
  "language_info": {
   "codemirror_mode": {
    "name": "ipython",
    "version": 3
   },
   "file_extension": ".py",
   "mimetype": "text/x-python",
   "name": "python",
   "nbconvert_exporter": "python",
   "pygments_lexer": "ipython3",
   "version": "3.12.7"
  }
 },
 "nbformat": 4,
 "nbformat_minor": 5
}
