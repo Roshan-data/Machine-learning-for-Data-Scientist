{
 "cells": [
  {
   "cell_type": "markdown",
   "id": "95eccc60-1703-41af-af86-7c8d12d6b59c",
   "metadata": {},
   "source": [
    "Using different ML Models\n",
    "\n",
    " Machine Learning (ML) is a branch of Artificial Intelligence that enables computers\n",
    " to learn from data instead of being explicitly programmed with rules."
   ]
  },
  {
   "cell_type": "markdown",
   "id": "3949b68f-314d-4651-8532-e82de88e5a47",
   "metadata": {},
   "source": [
    "Why Machine Learning?\n",
    "\n",
    " Traditional AI programs (like Deep Blue) were good at one specific task (e.g.,\n",
    " chess). ML allows us to write general-purpose programs that learn to solve many\n",
    " tasks — like playing Go, recognizing images, or filtering spam — just by learning\n",
    " from examples.\n",
    "\n",
    " AlphaGo, for instance, learned to play Go by playing against itself millions of times,\n",
    " improving its strategy without human intervention and becoming the world\n",
    " champion."
   ]
  },
  {
   "cell_type": "markdown",
   "id": "2514c9af-501c-4e36-963b-e941e065b889",
   "metadata": {},
   "source": [
    "What Is a Classifier?\n",
    "\n",
    "A classifier is a type of ML model. It:\n",
    " • Takes input data (like weight and texture of a fruit),\n",
    " • Learns from examples (training data),\n",
    " • And predicts labels (like “apple” or “orange”).\n"
   ]
  },
  {
   "cell_type": "markdown",
   "id": "111a0bbf-58af-48c2-84c7-6934ab4064fa",
   "metadata": {},
   "source": [
    " Features and Labels\n",
    "\n",
    " In ML, we work with:\n",
    "\n",
    " • Features: Characteristics of the data (e.g., weight, color)\n",
    " • Labels: The categories we want to predict (e.g., “apple”, “orange”)\n",
    "\n",
    " If classifier is a box of rules, you can think of learning algorithm as a procedure that\n",
    " created them. It finds patterns in the training data to create a model that can\n",
    " predict labels for new data."
   ]
  },
  {
   "cell_type": "markdown",
   "id": "0a8c14d6-094b-4134-9528-1aa7fdff4823",
   "metadata": {},
   "source": [
    " How Does It Work? (Simple Example)\n",
    " Let’s train a machine to tell apples from oranges"
   ]
  },
  {
   "cell_type": "code",
   "execution_count": 2,
   "id": "a076b26e-1f4d-402c-8ca7-d63e54851c00",
   "metadata": {},
   "outputs": [
    {
     "name": "stdout",
     "output_type": "stream",
     "text": [
      "[1]\n"
     ]
    }
   ],
   "source": [
    "from sklearn import tree\n",
    "\n",
    "# Step 1: Collect training data\n",
    "features = [[140, 1], [130, 1], [150, 0], [170, 0]]  # [weight, texture]\n",
    "labels = [0, 0, 1, 1]  # 0 = Apple, 1 = Orange\n",
    "\n",
    "# Step 2: Train the model\n",
    "clf = tree.DecisionTreeClassifier()\n",
    "clf = clf.fit(features, labels)\n",
    "\n",
    "# Step 3: Make a prediction\n",
    "print(clf.predict([[160, 0]]))  # Predicts: Orange (1)"
   ]
  },
  {
   "cell_type": "markdown",
   "id": "b6db3df5-53b7-45c0-8bc9-28d33a3f69fc",
   "metadata": {},
   "source": [
    " fit() means find patterns in the data\n",
    " After training, the model can predict new fruits!"
   ]
  },
  {
   "cell_type": "markdown",
   "id": "bb656f0f-6ba4-488e-8456-33f7fcb0c4a9",
   "metadata": {},
   "source": [
    " Why Is This Cool?\n",
    "\n",
    " • You don’t write rules — the machine learns them.\n",
    " • You can solve new problems just by changing the training data\n"
   ]
  },
  {
   "cell_type": "markdown",
   "id": "234ab3f8-f4b5-4ab9-b0f1-69c4bef59fc9",
   "metadata": {},
   "source": [
    "Summary:\n",
    "\n",
    " •  Machine Learning lets us build adaptable programs.\n",
    " •  A classifier learns from examples to make predictions.\n",
    " •  With tools like scikit-learn, writing your first ML model takes just 6 lines of\n",
    "   code\n"
   ]
  }
 ],
 "metadata": {
  "kernelspec": {
   "display_name": "Python [conda env:base] *",
   "language": "python",
   "name": "conda-base-py"
  },
  "language_info": {
   "codemirror_mode": {
    "name": "ipython",
    "version": 3
   },
   "file_extension": ".py",
   "mimetype": "text/x-python",
   "name": "python",
   "nbconvert_exporter": "python",
   "pygments_lexer": "ipython3",
   "version": "3.12.7"
  }
 },
 "nbformat": 4,
 "nbformat_minor": 5
}
